{
 "cells": [
  {
   "cell_type": "code",
   "execution_count": 1,
   "metadata": {},
   "outputs": [],
   "source": [
    "from bvp import our_own_bvp_solve\n",
    "import numpy as np\n",
    "from matplotlib import pyplot as plt\n",
    "%matplotlib inline"
   ]
  },
  {
   "cell_type": "code",
   "execution_count": 7,
   "metadata": {},
   "outputs": [],
   "source": [
    "# The following is the system for the midterm.\n",
    "gamma = 5 / 3\n",
    "v_plus = 3 / 5\n",
    "v_star = gamma / (gamma + 2)\n",
    "e_minus = (gamma + 2) * (v_plus - v_star) / 2 / gamma / (gamma + 1)\n",
    "\n",
    "# ODE\n",
    "f = lambda x, y: np.array([y[0] * (y[0] - 1) + gamma * (y[1] - y[0] * e_minus),\n",
    "                           y[0] * (-(y[0] - 1) ** 2 / 2 + y[1] - e_minus + gamma * e_minus * (y[0] - 1))])\n",
    "\n",
    "a = 0\n",
    "b = 20\n",
    "n = 40\n",
    "dim = 2\n",
    "\n",
    "# We try to start at the source and move to the sink\n",
    "bc = lambda ya, yb: np.array([\n",
    "    *(ya[0] - np.array([1, 3 / 50])),  # start at source\n",
    "    *yb[0],                            # finish at the sink\n",
    "    yb[1][0] + yb[1][1] * 0.33         # specify slope at sink\n",
    "])"
   ]
  },
  {
   "cell_type": "code",
   "execution_count": 8,
   "metadata": {},
   "outputs": [
    {
     "name": "stderr",
     "output_type": "stream",
     "text": [
      "/home/kylrth/programming/python/acme436/boundaryvalue/bvp.py:45: RankWarning: The fit may be poorly conditioned\n",
      "  cf0 = np.polynomial.chebyshev.chebfit(np.linspace(a, b, len(y0)), y0, n)\n"
     ]
    }
   ],
   "source": [
    "y0 = np.zeros((n + 1, dim))\n",
    "solution = our_own_bvp_solve(f, a, b, n, y0, dim, bc)"
   ]
  },
  {
   "cell_type": "code",
   "execution_count": 9,
   "metadata": {},
   "outputs": [
    {
     "data": {
      "image/png": "[encoded data removed]",
      "text/plain": [
       "<Figure size 432x288 with 1 Axes>"
      ]
     },
     "metadata": {
      "needs_background": "light"
     },
     "output_type": "display_data"
    }
   ],
   "source": [
    "# plotting\n",
    "dom = np.linspace(a, b, 1000)\n",
    "plt.plot(solution[0](dom), solution[1](dom), label='estimate')\n",
    "plt.scatter([1, 0, 3 / 5], [3 / 50, 0, 9 / 50], color='m', label='fixed points')\n",
    "plt.legend()\n",
    "plt.show()"
   ]
  },
  {
   "cell_type": "code",
   "execution_count": null,
   "metadata": {},
   "outputs": [],
   "source": []
  }
 ],
 "metadata": {
  "kernelspec": {
   "display_name": "Python 3",
   "language": "python",
   "name": "python3"
  },
  "language_info": {
   "codemirror_mode": {
    "name": "ipython",
    "version": 3
   },
   "file_extension": ".py",
   "mimetype": "text/x-python",
   "name": "python",
   "nbconvert_exporter": "python",
   "pygments_lexer": "ipython3",
   "version": "3.6.3"
  }
 },
 "nbformat": 4,
 "nbformat_minor": 2
}
