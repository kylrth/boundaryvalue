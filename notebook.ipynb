{
 "cells": [
  {
   "cell_type": "markdown",
   "metadata": {},
   "source": [
    "## Solving using SciPy\n",
    "\n",
    "We use `scipy.integrate.solve_bvp` as a gold-standard for developing our own solver."
   ]
  },
  {
   "cell_type": "code",
   "execution_count": null,
   "metadata": {},
   "outputs": [],
   "source": [
    "# The ODE system we want to solve\n",
    "system = lambda t, y: np.array([y[0] ** 2 - 11 * y[0] / 10 + 5 * y[1] / 3,\n",
    "                                y[0] ** 3 / -2 + 11 * y[0] ** 2 / 10 - 33 * y[0] / 50 + y[0] * y[1]])\n",
    "\n",
    "t = np.linspace(-20, 20, 200)\n",
    "y0 = np.array([-1/3, -4/3]).reshape((-1, 1)) * np.ones((2, len(t)))\n",
    "\n",
    "\n",
    "\n",
    "def bc(ya, yb):\n",
    "    # We want the derivatives on the left and the right to match the eigenvectors.\n",
    "    return np.array([])"
   ]
  }
 ],
 "metadata": {
  "kernelspec": {
   "display_name": "Python 3",
   "language": "python",
   "name": "python3"
  },
  "language_info": {
   "codemirror_mode": {
    "name": "ipython",
    "version": 3
   },
   "file_extension": ".py",
   "mimetype": "text/x-python",
   "name": "python",
   "nbconvert_exporter": "python",
   "pygments_lexer": "ipython3",
   "version": "3.6.3"
  }
 },
 "nbformat": 4,
 "nbformat_minor": 2
}
