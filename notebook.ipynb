{
 "cells": [
  {
   "cell_type": "code",
   "execution_count": 1,
   "metadata": {},
   "outputs": [],
   "source": [
    "from bvp import our_own_bvp_solve\n",
    "import numpy as np\n",
    "from matplotlib import pyplot as plt\n",
    "from scipy.integrate import solve_bvp\n",
    "%matplotlib inline"
   ]
  },
  {
   "cell_type": "code",
   "execution_count": 2,
   "metadata": {},
   "outputs": [],
   "source": [
    "# The following is the system for the midterm.\n",
    "gamma = 5 / 3\n",
    "v_plus = 3 / 5\n",
    "v_star = gamma / (gamma + 2)\n",
    "e_minus = (gamma + 2) * (v_plus - v_star) / 2 / gamma / (gamma + 1)\n",
    "\n",
    "# ODE\n",
    "f = lambda x, y: np.array([y[0] * (y[0] - 1) + gamma * (y[1] - y[0] * e_minus),\n",
    "                           y[0] * (-(y[0] - 1) ** 2 / 2 + y[1] - e_minus + gamma * e_minus * (y[0] - 1))])\n",
    "\n",
    "a = -20\n",
    "b = 20\n",
    "dim = 2\n",
    "\n",
    "# Choose an appropriate number of points at which to collocate.\n",
    "n = 40"
   ]
  },
  {
   "cell_type": "code",
   "execution_count": 3,
   "metadata": {},
   "outputs": [],
   "source": [
    "# fixed points\n",
    "source = np.array([1, e_minus])\n",
    "sink = np.array([0, 0])\n",
    "saddle = np.array([v_plus, 3 * e_minus])"
   ]
  },
  {
   "cell_type": "code",
   "execution_count": 4,
   "metadata": {},
   "outputs": [],
   "source": [
    "# These conditions start at the source and move to the sink.\n",
    "source_to_sink_bc = lambda ya, yc, yb: np.array([\n",
    "    *(ya[0] - source),          # start at source\n",
    "    *(yb[0] - sink),            # finish at the sink\n",
    "    yb[1][0] + yb[1][1] * 0.33  # specify slope at sink\n",
    "])\n",
    "\n",
    "# These conditions were what we tried using for our own solver,\n",
    "# but we were never able to get the right connecting orbit for\n",
    "# starting at the source and moving to the saddle.\n",
    "source_to_saddle_bc = lambda ya, yb: np.array([\n",
    "    np.dot(yb[0] - saddle, np.array([1, -0.3])),  # specify slope at saddle\n",
    "    yc[0][0] - (1 + v_plus) / 2                   # phase condition between source and saddle\n",
    "])\n",
    "\n",
    "# These conditions work with scipy.integrate.solve_bvp\n",
    "saddle_hat = saddle + np.array([1e-5, -1e-5])\n",
    "source_to_saddle_bc = lambda ya, yb: np.array([\n",
    "    *(yb - saddle_hat)\n",
    "])\n",
    "\n",
    "# These conditions start at the saddle and move to the sink.\n",
    "saddle_to_sink_bc = lambda ya, yc, yb: np.array([\n",
    "    *(ya[0] - saddle),          # start at saddle\n",
    "    *(yb[0] - sink),            # finish at sink\n",
    "    ya[1][0] + ya[1][1] * -0.3  # specify slope at saddle\n",
    "])"
   ]
  },
  {
   "cell_type": "code",
   "execution_count": 5,
   "metadata": {},
   "outputs": [],
   "source": [
    "# initial guess for solution\n",
    "y0_1 = lambda x: np.array([0 for _ in range(len(x))])\n",
    "y0_2 = lambda x: np.array([0 for _ in range(len(x))])\n",
    "\n",
    "# # solve for two of the connecting orbits using our_own_bvp_solve\n",
    "source_to_sink_solution = our_own_bvp_solve(f, a, b, n, (y0_1, y0_2), dim, source_to_sink_bc)\n",
    "saddle_to_sink_solution = our_own_bvp_solve(f, a, b, n, (y0_1, y0_2), dim, saddle_to_sink_bc)\n",
    "\n",
    "# different initial guess for source to saddle using solve_bvp\n",
    "y0_1 = lambda x: (1 + v_plus) / 2 + (v_plus - 1) / 2 * np.tanh(x)\n",
    "y0_2 = lambda x: 2 * e_minus + e_minus * np.tanh(x)\n",
    "\n",
    "# The following doesn't work:\n",
    "# source_to_saddle_solution = our_own_bvp_solve(f, a, b, n, (y0_1, y0_2), dim, source_to_saddle_bc)\n",
    "# Instead we use solve_bvp\n",
    "dom = np.linspace(a, b, 100)\n",
    "source_to_saddle_solution = solve_bvp(f, source_to_saddle_bc, dom, np.vstack((y0_1(dom), y0_2(dom))))"
   ]
  },
  {
   "cell_type": "code",
   "execution_count": 6,
   "metadata": {},
   "outputs": [
    {
     "data": {
      "image/png": "[encoded data removed]",
      "text/plain": [
       "<Figure size 432x288 with 1 Axes>"
      ]
     },
     "metadata": {
      "needs_background": "light"
     },
     "output_type": "display_data"
    }
   ],
   "source": [
    "# plotting\n",
    "dom = np.linspace(a, b, 1000)\n",
    "plt.plot(source_to_sink_solution[0](dom), source_to_sink_solution[1](dom), label='source to sink')\n",
    "plt.plot(saddle_to_sink_solution[0](dom), saddle_to_sink_solution[1](dom), label='saddle to sink')\n",
    "plt.plot(source_to_saddle_solution.sol(dom)[0], source_to_saddle_solution.sol(dom)[1], label='source to saddle')\n",
    "plt.scatter([1, 0, 3 / 5], [3 / 50, 0, 9 / 50], color='m', label='fixed points')\n",
    "plt.legend()\n",
    "plt.show()"
   ]
  },
  {
   "cell_type": "markdown",
   "metadata": {},
   "source": [
    "### We were able to use `our_own_bvp_solve` to solve for the blue and orange connecting orbits, but we were unable to use it for the green."
   ]
  },
  {
   "cell_type": "code",
   "execution_count": null,
   "metadata": {},
   "outputs": [],
   "source": []
  }
 ],
 "metadata": {
  "kernelspec": {
   "display_name": "Python 3",
   "language": "python",
   "name": "python3"
  },
  "language_info": {
   "codemirror_mode": {
    "name": "ipython",
    "version": 3
   },
   "file_extension": ".py",
   "mimetype": "text/x-python",
   "name": "python",
   "nbconvert_exporter": "python",
   "pygments_lexer": "ipython3",
   "version": "3.6.3"
  }
 },
 "nbformat": 4,
 "nbformat_minor": 2
}
